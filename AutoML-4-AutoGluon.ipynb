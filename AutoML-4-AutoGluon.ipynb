{
 "cells": [
  {
   "cell_type": "markdown",
   "id": "c73b27bc-1fdd-41fa-9f1b-21ea570f6fff",
   "metadata": {},
   "source": [
    "4.AutoGluon"
   ]
  },
  {
   "cell_type": "code",
   "execution_count": 1,
   "id": "92bb5926-4190-4d39-878e-727b02c15f96",
   "metadata": {},
   "outputs": [
    {
     "name": "stderr",
     "output_type": "stream",
     "text": [
      "C:\\Users\\jv028u\\AppData\\Local\\Temp\\ipykernel_2960\\2681619798.py:5: UserWarning: Parsing dates in %d/%m/%Y %H:%M:%S format when dayfirst=False (the default) was specified. Pass `dayfirst=True` or specify a format to silence this warning.\n",
      "  df['date_time'] = pd.to_datetime(df['Date'] + ' ' + df['Time'])\n",
      "C:\\Users\\jv028u\\AppData\\Local\\Temp\\ipykernel_2960\\2681619798.py:13: FutureWarning: Series.fillna with 'method' is deprecated and will raise in a future version. Use obj.ffill() or obj.bfill() instead.\n",
      "  df_hour['electricity_usage'] = df_hour['electricity_usage'].fillna(method='ffill')\n"
     ]
    }
   ],
   "source": [
    "import pandas as pd\n",
    "# load the dataset\n",
    "df = pd.read_csv('household_power_consumption.txt', delimiter=';', low_memory=False)\n",
    "# grab time series of electricity usage\n",
    "df['date_time'] = pd.to_datetime(df['Date'] + ' ' + df['Time'])\n",
    "df['electricity_usage'] = pd.to_numeric(df['Global_active_power'], errors='coerce')\n",
    "df = df[['date_time', 'electricity_usage']].copy()\n",
    "# set the index as and sort by date and time\n",
    "df = df.set_index('date_time').sort_index()\n",
    "# resample to hourly frequency\n",
    "df_hour = df.resample('1H').mean()\n",
    "# create shifted time series\n",
    "df_hour['electricity_usage'] = df_hour['electricity_usage'].fillna(method='ffill')\n",
    "df_hour['electricity_usage_1hr_lag'] = df_hour['electricity_usage'].shift()\n",
    "df_hour['electricity_usage_2hr_lag'] = df_hour['electricity_usage'].shift(2)\n",
    "df_hour['electricity_usage_3hr_lag'] = df_hour['electricity_usage'].shift(3)\n",
    "df_hour['electricity_usage_4hr_lag'] = df_hour['electricity_usage'].shift(4)\n",
    "df_hour['electricity_usage_5hr_lag'] = df_hour['electricity_usage'].shift(5)\n",
    "df_hour['electricity_usage_6hr_lag'] = df_hour['electricity_usage'].shift(6)\n",
    "df_hour['electricity_usage_7hr_lag'] = df_hour['electricity_usage'].shift(7)\n",
    "df_hour['electricity_usage_8hr_lag'] = df_hour['electricity_usage'].shift(8)\n",
    "# create month/seasonality as a feature\n",
    "df_hour['month'] = df_hour.index.month\n",
    "# drop missing data\n",
    "df_hour = df_hour.dropna()\n",
    "# split train test sets\n",
    "sample_size = df_hour.shape[0] - 200\n",
    "df_train = df_hour.iloc[:sample_size].copy()\n",
    "df_test = df_hour.iloc[sample_size:].copy()"
   ]
  },
  {
   "cell_type": "code",
   "execution_count": 5,
   "id": "00a79abe-c18d-4b2e-afef-a03febcd311a",
   "metadata": {},
   "outputs": [
    {
     "ename": "ModuleNotFoundError",
     "evalue": "No module named 'autogluon'",
     "output_type": "error",
     "traceback": [
      "\u001b[1;31m---------------------------------------------------------------------------\u001b[0m",
      "\u001b[1;31mModuleNotFoundError\u001b[0m                       Traceback (most recent call last)",
      "Cell \u001b[1;32mIn[5], line 1\u001b[0m\n\u001b[1;32m----> 1\u001b[0m \u001b[38;5;28;01mfrom\u001b[39;00m \u001b[38;5;21;01mautogluon\u001b[39;00m\u001b[38;5;21;01m.\u001b[39;00m\u001b[38;5;21;01mtabular\u001b[39;00m \u001b[38;5;28;01mimport\u001b[39;00m TabularPredictor\n\u001b[0;32m      2\u001b[0m autogluon_automl \u001b[38;5;241m=\u001b[39m TabularPredictor(label\u001b[38;5;241m=\u001b[39m\u001b[38;5;124m'\u001b[39m\u001b[38;5;124melectricity_usage\u001b[39m\u001b[38;5;124m'\u001b[39m, problem_type\u001b[38;5;241m=\u001b[39m\u001b[38;5;124m'\u001b[39m\u001b[38;5;124mregression\u001b[39m\u001b[38;5;124m'\u001b[39m, eval_metric\u001b[38;5;241m=\u001b[39m\u001b[38;5;124m'\u001b[39m\u001b[38;5;124mmean_squared_error\u001b[39m\u001b[38;5;124m'\u001b[39m)\n\u001b[0;32m      3\u001b[0m autogluon_automl\u001b[38;5;241m.\u001b[39mfit(train_data\u001b[38;5;241m=\u001b[39mdf_train, time_limit\u001b[38;5;241m=\u001b[39m\u001b[38;5;241m5\u001b[39m\u001b[38;5;241m*\u001b[39m\u001b[38;5;241m60\u001b[39m)\n",
      "\u001b[1;31mModuleNotFoundError\u001b[0m: No module named 'autogluon'"
     ]
    }
   ],
   "source": [
    "from autogluon.tabular import TabularPredictor\n",
    "autogluon_automl = TabularPredictor(label='electricity_usage', problem_type='regression', eval_metric='mean_squared_error')\n",
    "autogluon_automl.fit(train_data=df_train, time_limit=5*60)"
   ]
  },
  {
   "cell_type": "code",
   "execution_count": null,
   "id": "f27dc919-5f94-4d85-bb5e-b1ea8537943a",
   "metadata": {},
   "outputs": [],
   "source": [
    "!pip install autogluon"
   ]
  },
  {
   "cell_type": "code",
   "execution_count": null,
   "id": "395f1733-c698-436c-9bb8-79b4162570ad",
   "metadata": {},
   "outputs": [],
   "source": [
    "autogluon_automl.leaderboard()"
   ]
  },
  {
   "cell_type": "markdown",
   "id": "7bd2344a-8831-4469-9943-beeeab2271ae",
   "metadata": {},
   "source": [
    "model\tscore_val\tpred_time_val\tfit_time\tpred_time_val_marginal\tfit_time_marginal\tstack_level\tcan_infer\tfit_order\n",
    "0\tWeightedEnsemble_L2\t-0.348620\t0.303443\t287.461536\t0.002577\t0.276444\t2\tTrue\t12\n",
    "1\tLightGBMXT\t-0.351087\t0.010267\t1.051211\t0.010267\t1.051211\t1\tTrue\t3\n",
    "2\tLightGBM\t-0.351415\t0.006418\t0.353956\t0.006418\t0.353956\t1\tTrue\t4\n",
    "3\tCatBoost\t-0.353631\t0.005425\t4.793479\t0.005425\t4.793479\t1\tTrue\t6\n",
    "4\tXGBoost\t-0.353716\t0.009078\t1.165040\t0.009078\t1.165040\t1\tTrue\t9"
   ]
  },
  {
   "cell_type": "code",
   "execution_count": null,
   "id": "b95875f3-523a-4acd-89db-c70c71506d65",
   "metadata": {},
   "outputs": [],
   "source": [
    "autogluon_automl.evaluate(df_test)"
   ]
  },
  {
   "cell_type": "code",
   "execution_count": null,
   "id": "73976c76-60f3-4c8c-bda7-856d0e0bf93b",
   "metadata": {},
   "outputs": [],
   "source": [
    "\n",
    "y_pred = autogluon_automl.predict(df_test)\n",
    "autogluon_compare = pd.DataFrame(data={'actual': df_test['electricity_usage'], 'predicted': y_pred})\n",
    "autogluon_compare.plot(figsize=(10, 5))"
   ]
  },
  {
   "cell_type": "code",
   "execution_count": null,
   "id": "093cd554-0a33-467f-a598-a67c2598beef",
   "metadata": {},
   "outputs": [],
   "source": []
  }
 ],
 "metadata": {
  "kernelspec": {
   "display_name": "Python 3 (ipykernel)",
   "language": "python",
   "name": "python3"
  },
  "language_info": {
   "codemirror_mode": {
    "name": "ipython",
    "version": 3
   },
   "file_extension": ".py",
   "mimetype": "text/x-python",
   "name": "python",
   "nbconvert_exporter": "python",
   "pygments_lexer": "ipython3",
   "version": "3.12.6"
  }
 },
 "nbformat": 4,
 "nbformat_minor": 5
}
