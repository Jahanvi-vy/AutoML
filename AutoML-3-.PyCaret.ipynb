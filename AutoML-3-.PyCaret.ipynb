{
 "cells": [
  {
   "cell_type": "markdown",
   "id": "18489a83-8015-4d70-8aac-2a264bfbfe66",
   "metadata": {},
   "source": [
    "3.PyCaret"
   ]
  },
  {
   "cell_type": "markdown",
   "id": "4e7a9a99-a96a-4cb6-b1e5-be6b076e2749",
   "metadata": {},
   "source": [
    "i)setup the training environment and create the transformation pipeline."
   ]
  },
  {
   "cell_type": "code",
   "execution_count": 5,
   "id": "998d46b2-738f-4cb4-9299-35d24ac59d2f",
   "metadata": {},
   "outputs": [],
   "source": [
    "import pandas as pd\n",
    "# load the dataset\n",
    "df = pd.read_csv('household_power_consumption.txt', delimiter=';', low_memory=False)\n",
    "# grab time series of electricity usage\n",
    "df['date_time'] = pd.to_datetime(df['Date'] + ' ' + df['Time'])\n",
    "df['electricity_usage'] = pd.to_numeric(df['Global_active_power'], errors='coerce')\n",
    "df = df[['date_time', 'electricity_usage']].copy()\n",
    "# set the index as and sort by date and time\n",
    "df = df.set_index('date_time').sort_index()\n",
    "# resample to hourly frequency\n",
    "df_hour = df.resample('1H').mean()\n",
    "# create shifted time series\n",
    "df_hour['electricity_usage'] = df_hour['electricity_usage'].fillna(method='ffill')\n",
    "df_hour['electricity_usage_1hr_lag'] = df_hour['electricity_usage'].shift()\n",
    "df_hour['electricity_usage_2hr_lag'] = df_hour['electricity_usage'].shift(2)\n",
    "df_hour['electricity_usage_3hr_lag'] = df_hour['electricity_usage'].shift(3)\n",
    "df_hour['electricity_usage_4hr_lag'] = df_hour['electricity_usage'].shift(4)\n",
    "df_hour['electricity_usage_5hr_lag'] = df_hour['electricity_usage'].shift(5)\n",
    "df_hour['electricity_usage_6hr_lag'] = df_hour['electricity_usage'].shift(6)\n",
    "df_hour['electricity_usage_7hr_lag'] = df_hour['electricity_usage'].shift(7)\n",
    "df_hour['electricity_usage_8hr_lag'] = df_hour['electricity_usage'].shift(8)\n",
    "# create month/seasonality as a feature\n",
    "df_hour['month'] = df_hour.index.month\n",
    "# drop missing data\n",
    "df_hour = df_hour.dropna()\n",
    "# split train test sets\n",
    "sample_size = df_hour.shape[0] - 200\n",
    "df_train = df_hour.iloc[:sample_size].copy()\n",
    "df_test = df_hour.iloc[sample_size:].copy()"
   ]
  },
  {
   "cell_type": "code",
   "execution_count": 7,
   "id": "79d44f35-aefd-4fed-be93-edca03b33967",
   "metadata": {},
   "outputs": [
    {
     "ename": "RuntimeError",
     "evalue": "('Pycaret only supports python 3.9, 3.10, 3.11. Your actual Python version: ', sys.version_info(major=3, minor=12, micro=6, releaselevel='final', serial=0), 'Please DOWNGRADE your Python version.')",
     "output_type": "error",
     "traceback": [
      "\u001b[1;31m---------------------------------------------------------------------------\u001b[0m",
      "\u001b[1;31mRuntimeError\u001b[0m                              Traceback (most recent call last)",
      "Cell \u001b[1;32mIn[7], line 1\u001b[0m\n\u001b[1;32m----> 1\u001b[0m \u001b[38;5;28;01mfrom\u001b[39;00m \u001b[38;5;21;01mpycaret\u001b[39;00m\u001b[38;5;21;01m.\u001b[39;00m\u001b[38;5;21;01mregression\u001b[39;00m \u001b[38;5;28;01mimport\u001b[39;00m setup, compare_models, predict_model\n\u001b[0;32m      2\u001b[0m pycaret_automl \u001b[38;5;241m=\u001b[39m setup(data\u001b[38;5;241m=\u001b[39mdf_train, target \u001b[38;5;241m=\u001b[39m \u001b[38;5;124m'\u001b[39m\u001b[38;5;124melectricity_usage\u001b[39m\u001b[38;5;124m'\u001b[39m, session_id\u001b[38;5;241m=\u001b[39m\u001b[38;5;241m666\u001b[39m)\n",
      "File \u001b[1;32m~\\AppData\\Local\\Programs\\Python\\Python312\\Lib\\site-packages\\pycaret\\__init__.py:22\u001b[0m\n\u001b[0;32m     16\u001b[0m     \u001b[38;5;28;01mraise\u001b[39;00m \u001b[38;5;167;01mRuntimeError\u001b[39;00m(\n\u001b[0;32m     17\u001b[0m         \u001b[38;5;124m\"\u001b[39m\u001b[38;5;124mPycaret only supports python 3.9, 3.10, 3.11. Your actual Python version: \u001b[39m\u001b[38;5;124m\"\u001b[39m,\n\u001b[0;32m     18\u001b[0m         sys\u001b[38;5;241m.\u001b[39mversion_info,\n\u001b[0;32m     19\u001b[0m         \u001b[38;5;124m\"\u001b[39m\u001b[38;5;124mPlease UPGRADE your Python version.\u001b[39m\u001b[38;5;124m\"\u001b[39m,\n\u001b[0;32m     20\u001b[0m     )\n\u001b[0;32m     21\u001b[0m \u001b[38;5;28;01melif\u001b[39;00m sys\u001b[38;5;241m.\u001b[39mversion_info \u001b[38;5;241m>\u001b[39m\u001b[38;5;241m=\u001b[39m (\u001b[38;5;241m3\u001b[39m, \u001b[38;5;241m12\u001b[39m):\n\u001b[1;32m---> 22\u001b[0m     \u001b[38;5;28;01mraise\u001b[39;00m \u001b[38;5;167;01mRuntimeError\u001b[39;00m(\n\u001b[0;32m     23\u001b[0m         \u001b[38;5;124m\"\u001b[39m\u001b[38;5;124mPycaret only supports python 3.9, 3.10, 3.11. Your actual Python version: \u001b[39m\u001b[38;5;124m\"\u001b[39m,\n\u001b[0;32m     24\u001b[0m         sys\u001b[38;5;241m.\u001b[39mversion_info,\n\u001b[0;32m     25\u001b[0m         \u001b[38;5;124m\"\u001b[39m\u001b[38;5;124mPlease DOWNGRADE your Python version.\u001b[39m\u001b[38;5;124m\"\u001b[39m,\n\u001b[0;32m     26\u001b[0m     )\n",
      "\u001b[1;31mRuntimeError\u001b[0m: ('Pycaret only supports python 3.9, 3.10, 3.11. Your actual Python version: ', sys.version_info(major=3, minor=12, micro=6, releaselevel='final', serial=0), 'Please DOWNGRADE your Python version.')"
     ]
    }
   ],
   "source": [
    "from pycaret.regression import setup, compare_models, predict_model\n",
    "pycaret_automl = setup(data=df_train, target = 'electricity_usage', session_id=666)"
   ]
  },
  {
   "cell_type": "code",
   "execution_count": 1,
   "id": "c77d9920-82fe-44cd-9d0a-e0455c23c401",
   "metadata": {},
   "outputs": [
    {
     "name": "stdout",
     "output_type": "stream",
     "text": [
      "Collecting pycaret\n",
      "  Using cached pycaret-3.3.2-py3-none-any.whl.metadata (17 kB)\n",
      "Requirement already satisfied: ipython>=5.5.0 in c:\\users\\jv028u\\appdata\\local\\programs\\python\\python312\\lib\\site-packages (from pycaret) (8.27.0)\n",
      "Requirement already satisfied: ipywidgets>=7.6.5 in c:\\users\\jv028u\\appdata\\local\\programs\\python\\python312\\lib\\site-packages (from pycaret) (8.1.5)\n",
      "Requirement already satisfied: tqdm>=4.62.0 in c:\\users\\jv028u\\appdata\\local\\programs\\python\\python312\\lib\\site-packages (from pycaret) (4.66.5)\n",
      "Requirement already satisfied: numpy<1.27,>=1.21 in c:\\users\\jv028u\\appdata\\local\\programs\\python\\python312\\lib\\site-packages (from pycaret) (1.26.4)\n",
      "Requirement already satisfied: pandas<2.2.0 in c:\\users\\jv028u\\appdata\\local\\programs\\python\\python312\\lib\\site-packages (from pycaret) (2.1.4)\n",
      "Requirement already satisfied: jinja2>=3 in c:\\users\\jv028u\\appdata\\local\\programs\\python\\python312\\lib\\site-packages (from pycaret) (3.1.4)\n",
      "Requirement already satisfied: scipy<=1.11.4,>=1.6.1 in c:\\users\\jv028u\\appdata\\local\\programs\\python\\python312\\lib\\site-packages (from pycaret) (1.11.4)\n",
      "Requirement already satisfied: joblib<1.4,>=1.2.0 in c:\\users\\jv028u\\appdata\\local\\programs\\python\\python312\\lib\\site-packages (from pycaret) (1.3.2)\n",
      "Requirement already satisfied: scikit-learn>1.4.0 in c:\\users\\jv028u\\appdata\\local\\programs\\python\\python312\\lib\\site-packages (from pycaret) (1.4.2)\n",
      "Collecting pyod>=1.1.3 (from pycaret)\n",
      "  Using cached pyod-2.0.2-py3-none-any.whl\n",
      "Collecting imbalanced-learn>=0.12.0 (from pycaret)\n",
      "  Using cached imbalanced_learn-0.12.4-py3-none-any.whl.metadata (8.3 kB)\n",
      "Collecting category-encoders>=2.4.0 (from pycaret)\n",
      "  Using cached category_encoders-2.6.4-py2.py3-none-any.whl.metadata (8.0 kB)\n",
      "Collecting lightgbm>=3.0.0 (from pycaret)\n",
      "  Using cached lightgbm-4.5.0-py3-none-win_amd64.whl.metadata (17 kB)\n",
      "Requirement already satisfied: numba>=0.55.0 in c:\\users\\jv028u\\appdata\\local\\programs\\python\\python312\\lib\\site-packages (from pycaret) (0.60.0)\n",
      "Requirement already satisfied: requests>=2.27.1 in c:\\users\\jv028u\\appdata\\local\\programs\\python\\python312\\lib\\site-packages (from pycaret) (2.27.1)\n",
      "Requirement already satisfied: psutil>=5.9.0 in c:\\users\\jv028u\\appdata\\local\\programs\\python\\python312\\lib\\site-packages (from pycaret) (6.0.0)\n",
      "Requirement already satisfied: markupsafe>=2.0.1 in c:\\users\\jv028u\\appdata\\local\\programs\\python\\python312\\lib\\site-packages (from pycaret) (2.1.5)\n",
      "Requirement already satisfied: importlib-metadata>=4.12.0 in c:\\users\\jv028u\\appdata\\local\\programs\\python\\python312\\lib\\site-packages (from pycaret) (8.5.0)\n",
      "Requirement already satisfied: nbformat>=4.2.0 in c:\\users\\jv028u\\appdata\\local\\programs\\python\\python312\\lib\\site-packages (from pycaret) (5.10.4)\n",
      "Requirement already satisfied: cloudpickle in c:\\users\\jv028u\\appdata\\local\\programs\\python\\python312\\lib\\site-packages (from pycaret) (3.1.0)\n",
      "Requirement already satisfied: deprecation>=2.1.0 in c:\\users\\jv028u\\appdata\\local\\programs\\python\\python312\\lib\\site-packages (from pycaret) (2.1.0)\n",
      "Requirement already satisfied: xxhash in c:\\users\\jv028u\\appdata\\local\\programs\\python\\python312\\lib\\site-packages (from pycaret) (3.5.0)\n",
      "Collecting matplotlib<3.8.0 (from pycaret)\n",
      "  Using cached matplotlib-3.7.5-cp312-cp312-win_amd64.whl.metadata (5.8 kB)\n",
      "Collecting scikit-plot>=0.3.7 (from pycaret)\n",
      "  Using cached scikit_plot-0.3.7-py3-none-any.whl.metadata (7.1 kB)\n",
      "Collecting yellowbrick>=1.4 (from pycaret)\n",
      "  Using cached yellowbrick-1.5-py3-none-any.whl.metadata (7.7 kB)\n",
      "Requirement already satisfied: plotly>=5.14.0 in c:\\users\\jv028u\\appdata\\local\\programs\\python\\python312\\lib\\site-packages (from pycaret) (5.24.1)\n",
      "Requirement already satisfied: kaleido>=0.2.1 in c:\\users\\jv028u\\appdata\\local\\programs\\python\\python312\\lib\\site-packages (from pycaret) (0.2.1)\n",
      "Requirement already satisfied: schemdraw==0.15 in c:\\users\\jv028u\\appdata\\local\\programs\\python\\python312\\lib\\site-packages (from pycaret) (0.15)\n",
      "Collecting plotly-resampler>=0.8.3.1 (from pycaret)\n",
      "  Using cached plotly_resampler-0.10.0-py3-none-any.whl.metadata (13 kB)\n",
      "Collecting statsmodels>=0.12.1 (from pycaret)\n",
      "  Using cached statsmodels-0.14.4-cp312-cp312-win_amd64.whl.metadata (9.5 kB)\n",
      "Collecting sktime==0.26.0 (from pycaret)\n",
      "  Using cached sktime-0.26.0-py3-none-any.whl.metadata (29 kB)\n",
      "Collecting tbats>=1.1.3 (from pycaret)\n",
      "  Using cached tbats-1.1.3-py3-none-any.whl.metadata (3.8 kB)\n",
      "Collecting pmdarima>=2.0.4 (from pycaret)\n",
      "  Using cached pmdarima-2.0.4-cp312-cp312-win_amd64.whl.metadata (8.0 kB)\n",
      "Requirement already satisfied: packaging in c:\\users\\jv028u\\appdata\\local\\programs\\python\\python312\\lib\\site-packages (from sktime==0.26.0->pycaret) (24.1)\n",
      "Requirement already satisfied: scikit-base<0.8.0 in c:\\users\\jv028u\\appdata\\local\\programs\\python\\python312\\lib\\site-packages (from sktime==0.26.0->pycaret) (0.7.8)\n",
      "Requirement already satisfied: patsy>=0.5.1 in c:\\users\\jv028u\\appdata\\local\\programs\\python\\python312\\lib\\site-packages (from category-encoders>=2.4.0->pycaret) (0.5.6)\n",
      "Requirement already satisfied: threadpoolctl>=2.0.0 in c:\\users\\jv028u\\appdata\\local\\programs\\python\\python312\\lib\\site-packages (from imbalanced-learn>=0.12.0->pycaret) (3.5.0)\n",
      "Requirement already satisfied: zipp>=3.20 in c:\\users\\jv028u\\appdata\\local\\programs\\python\\python312\\lib\\site-packages (from importlib-metadata>=4.12.0->pycaret) (3.20.2)\n",
      "Requirement already satisfied: decorator in c:\\users\\jv028u\\appdata\\local\\programs\\python\\python312\\lib\\site-packages (from ipython>=5.5.0->pycaret) (5.1.1)\n",
      "Requirement already satisfied: jedi>=0.16 in c:\\users\\jv028u\\appdata\\local\\programs\\python\\python312\\lib\\site-packages (from ipython>=5.5.0->pycaret) (0.19.1)\n",
      "Requirement already satisfied: matplotlib-inline in c:\\users\\jv028u\\appdata\\local\\programs\\python\\python312\\lib\\site-packages (from ipython>=5.5.0->pycaret) (0.1.7)\n",
      "Requirement already satisfied: prompt-toolkit<3.1.0,>=3.0.41 in c:\\users\\jv028u\\appdata\\local\\programs\\python\\python312\\lib\\site-packages (from ipython>=5.5.0->pycaret) (3.0.47)\n",
      "Requirement already satisfied: pygments>=2.4.0 in c:\\users\\jv028u\\appdata\\local\\programs\\python\\python312\\lib\\site-packages (from ipython>=5.5.0->pycaret) (2.18.0)\n",
      "Requirement already satisfied: stack-data in c:\\users\\jv028u\\appdata\\local\\programs\\python\\python312\\lib\\site-packages (from ipython>=5.5.0->pycaret) (0.6.3)\n",
      "Requirement already satisfied: traitlets>=5.13.0 in c:\\users\\jv028u\\appdata\\local\\programs\\python\\python312\\lib\\site-packages (from ipython>=5.5.0->pycaret) (5.14.3)\n",
      "Requirement already satisfied: colorama in c:\\users\\jv028u\\appdata\\local\\programs\\python\\python312\\lib\\site-packages (from ipython>=5.5.0->pycaret) (0.4.6)\n",
      "Requirement already satisfied: comm>=0.1.3 in c:\\users\\jv028u\\appdata\\local\\programs\\python\\python312\\lib\\site-packages (from ipywidgets>=7.6.5->pycaret) (0.2.2)\n",
      "Requirement already satisfied: widgetsnbextension~=4.0.12 in c:\\users\\jv028u\\appdata\\local\\programs\\python\\python312\\lib\\site-packages (from ipywidgets>=7.6.5->pycaret) (4.0.13)\n",
      "Requirement already satisfied: jupyterlab-widgets~=3.0.12 in c:\\users\\jv028u\\appdata\\local\\programs\\python\\python312\\lib\\site-packages (from ipywidgets>=7.6.5->pycaret) (3.0.13)\n",
      "Requirement already satisfied: contourpy>=1.0.1 in c:\\users\\jv028u\\appdata\\local\\programs\\python\\python312\\lib\\site-packages (from matplotlib<3.8.0->pycaret) (1.3.0)\n",
      "Requirement already satisfied: cycler>=0.10 in c:\\users\\jv028u\\appdata\\local\\programs\\python\\python312\\lib\\site-packages (from matplotlib<3.8.0->pycaret) (0.12.1)\n",
      "Requirement already satisfied: fonttools>=4.22.0 in c:\\users\\jv028u\\appdata\\local\\programs\\python\\python312\\lib\\site-packages (from matplotlib<3.8.0->pycaret) (4.53.1)\n",
      "Requirement already satisfied: kiwisolver>=1.0.1 in c:\\users\\jv028u\\appdata\\local\\programs\\python\\python312\\lib\\site-packages (from matplotlib<3.8.0->pycaret) (1.4.7)\n",
      "Requirement already satisfied: pillow>=6.2.0 in c:\\users\\jv028u\\appdata\\local\\programs\\python\\python312\\lib\\site-packages (from matplotlib<3.8.0->pycaret) (10.4.0)\n",
      "Requirement already satisfied: pyparsing>=2.3.1 in c:\\users\\jv028u\\appdata\\local\\programs\\python\\python312\\lib\\site-packages (from matplotlib<3.8.0->pycaret) (3.1.4)\n",
      "Requirement already satisfied: python-dateutil>=2.7 in c:\\users\\jv028u\\appdata\\local\\programs\\python\\python312\\lib\\site-packages (from matplotlib<3.8.0->pycaret) (2.9.0.post0)\n",
      "Requirement already satisfied: fastjsonschema>=2.15 in c:\\users\\jv028u\\appdata\\local\\programs\\python\\python312\\lib\\site-packages (from nbformat>=4.2.0->pycaret) (2.20.0)\n",
      "Requirement already satisfied: jsonschema>=2.6 in c:\\users\\jv028u\\appdata\\local\\programs\\python\\python312\\lib\\site-packages (from nbformat>=4.2.0->pycaret) (4.23.0)\n",
      "Requirement already satisfied: jupyter-core!=5.0.*,>=4.12 in c:\\users\\jv028u\\appdata\\local\\programs\\python\\python312\\lib\\site-packages (from nbformat>=4.2.0->pycaret) (5.7.2)\n",
      "Requirement already satisfied: llvmlite<0.44,>=0.43.0dev0 in c:\\users\\jv028u\\appdata\\local\\programs\\python\\python312\\lib\\site-packages (from numba>=0.55.0->pycaret) (0.43.0)\n",
      "Requirement already satisfied: pytz>=2020.1 in c:\\users\\jv028u\\appdata\\local\\programs\\python\\python312\\lib\\site-packages (from pandas<2.2.0->pycaret) (2024.1)\n",
      "Requirement already satisfied: tzdata>=2022.1 in c:\\users\\jv028u\\appdata\\local\\programs\\python\\python312\\lib\\site-packages (from pandas<2.2.0->pycaret) (2024.1)\n",
      "Requirement already satisfied: tenacity>=6.2.0 in c:\\users\\jv028u\\appdata\\local\\programs\\python\\python312\\lib\\site-packages (from plotly>=5.14.0->pycaret) (9.0.0)\n",
      "Collecting dash>=2.9.0 (from plotly-resampler>=0.8.3.1->pycaret)\n",
      "  Using cached dash-2.18.1-py3-none-any.whl.metadata (10 kB)\n",
      "Requirement already satisfied: orjson<4.0.0,>=3.8.0 in c:\\users\\jv028u\\appdata\\local\\programs\\python\\python312\\lib\\site-packages (from plotly-resampler>=0.8.3.1->pycaret) (3.10.10)\n",
      "Requirement already satisfied: tsdownsample>=0.1.3 in c:\\users\\jv028u\\appdata\\local\\programs\\python\\python312\\lib\\site-packages (from plotly-resampler>=0.8.3.1->pycaret) (0.1.3)\n",
      "Requirement already satisfied: Cython!=0.29.18,!=0.29.31,>=0.29 in c:\\users\\jv028u\\appdata\\local\\programs\\python\\python312\\lib\\site-packages (from pmdarima>=2.0.4->pycaret) (3.0.11)\n",
      "Requirement already satisfied: urllib3 in c:\\users\\jv028u\\appdata\\local\\programs\\python\\python312\\lib\\site-packages (from pmdarima>=2.0.4->pycaret) (1.26.20)\n",
      "Requirement already satisfied: setuptools!=50.0.0,>=38.6.0 in c:\\users\\jv028u\\appdata\\local\\programs\\python\\python312\\lib\\site-packages (from pmdarima>=2.0.4->pycaret) (74.1.2)\n",
      "Requirement already satisfied: certifi>=2017.4.17 in c:\\users\\jv028u\\appdata\\local\\programs\\python\\python312\\lib\\site-packages (from requests>=2.27.1->pycaret) (2024.8.30)\n",
      "Requirement already satisfied: charset-normalizer~=2.0.0 in c:\\users\\jv028u\\appdata\\local\\programs\\python\\python312\\lib\\site-packages (from requests>=2.27.1->pycaret) (2.0.12)\n",
      "Requirement already satisfied: idna<4,>=2.5 in c:\\users\\jv028u\\appdata\\local\\programs\\python\\python312\\lib\\site-packages (from requests>=2.27.1->pycaret) (3.8)\n",
      "Collecting Flask<3.1,>=1.0.4 (from dash>=2.9.0->plotly-resampler>=0.8.3.1->pycaret)\n",
      "  Using cached flask-3.0.3-py3-none-any.whl.metadata (3.2 kB)\n",
      "Requirement already satisfied: Werkzeug<3.1 in c:\\users\\jv028u\\appdata\\local\\programs\\python\\python312\\lib\\site-packages (from dash>=2.9.0->plotly-resampler>=0.8.3.1->pycaret) (3.0.4)\n",
      "Requirement already satisfied: dash-html-components==2.0.0 in c:\\users\\jv028u\\appdata\\local\\programs\\python\\python312\\lib\\site-packages (from dash>=2.9.0->plotly-resampler>=0.8.3.1->pycaret) (2.0.0)\n",
      "Requirement already satisfied: dash-core-components==2.0.0 in c:\\users\\jv028u\\appdata\\local\\programs\\python\\python312\\lib\\site-packages (from dash>=2.9.0->plotly-resampler>=0.8.3.1->pycaret) (2.0.0)\n",
      "Requirement already satisfied: dash-table==5.0.0 in c:\\users\\jv028u\\appdata\\local\\programs\\python\\python312\\lib\\site-packages (from dash>=2.9.0->plotly-resampler>=0.8.3.1->pycaret) (5.0.0)\n",
      "Requirement already satisfied: typing-extensions>=4.1.1 in c:\\users\\jv028u\\appdata\\local\\programs\\python\\python312\\lib\\site-packages (from dash>=2.9.0->plotly-resampler>=0.8.3.1->pycaret) (4.12.2)\n",
      "Requirement already satisfied: retrying in c:\\users\\jv028u\\appdata\\local\\programs\\python\\python312\\lib\\site-packages (from dash>=2.9.0->plotly-resampler>=0.8.3.1->pycaret) (1.3.4)\n",
      "Requirement already satisfied: nest-asyncio in c:\\users\\jv028u\\appdata\\local\\programs\\python\\python312\\lib\\site-packages (from dash>=2.9.0->plotly-resampler>=0.8.3.1->pycaret) (1.6.0)\n",
      "Requirement already satisfied: parso<0.9.0,>=0.8.3 in c:\\users\\jv028u\\appdata\\local\\programs\\python\\python312\\lib\\site-packages (from jedi>=0.16->ipython>=5.5.0->pycaret) (0.8.4)\n",
      "Requirement already satisfied: attrs>=22.2.0 in c:\\users\\jv028u\\appdata\\local\\programs\\python\\python312\\lib\\site-packages (from jsonschema>=2.6->nbformat>=4.2.0->pycaret) (24.2.0)\n",
      "Requirement already satisfied: jsonschema-specifications>=2023.03.6 in c:\\users\\jv028u\\appdata\\local\\programs\\python\\python312\\lib\\site-packages (from jsonschema>=2.6->nbformat>=4.2.0->pycaret) (2023.12.1)\n",
      "Requirement already satisfied: referencing>=0.28.4 in c:\\users\\jv028u\\appdata\\local\\programs\\python\\python312\\lib\\site-packages (from jsonschema>=2.6->nbformat>=4.2.0->pycaret) (0.35.1)\n",
      "Requirement already satisfied: rpds-py>=0.7.1 in c:\\users\\jv028u\\appdata\\local\\programs\\python\\python312\\lib\\site-packages (from jsonschema>=2.6->nbformat>=4.2.0->pycaret) (0.20.0)\n",
      "Requirement already satisfied: platformdirs>=2.5 in c:\\users\\jv028u\\appdata\\local\\programs\\python\\python312\\lib\\site-packages (from jupyter-core!=5.0.*,>=4.12->nbformat>=4.2.0->pycaret) (4.3.2)\n",
      "Requirement already satisfied: pywin32>=300 in c:\\users\\jv028u\\appdata\\local\\programs\\python\\python312\\lib\\site-packages (from jupyter-core!=5.0.*,>=4.12->nbformat>=4.2.0->pycaret) (306)\n",
      "Requirement already satisfied: six in c:\\users\\jv028u\\appdata\\local\\programs\\python\\python312\\lib\\site-packages (from patsy>=0.5.1->category-encoders>=2.4.0->pycaret) (1.16.0)\n",
      "Requirement already satisfied: wcwidth in c:\\users\\jv028u\\appdata\\local\\programs\\python\\python312\\lib\\site-packages (from prompt-toolkit<3.1.0,>=3.0.41->ipython>=5.5.0->pycaret) (0.2.13)\n",
      "Requirement already satisfied: executing>=1.2.0 in c:\\users\\jv028u\\appdata\\local\\programs\\python\\python312\\lib\\site-packages (from stack-data->ipython>=5.5.0->pycaret) (2.1.0)\n",
      "Requirement already satisfied: asttokens>=2.1.0 in c:\\users\\jv028u\\appdata\\local\\programs\\python\\python312\\lib\\site-packages (from stack-data->ipython>=5.5.0->pycaret) (2.4.1)\n",
      "Requirement already satisfied: pure-eval in c:\\users\\jv028u\\appdata\\local\\programs\\python\\python312\\lib\\site-packages (from stack-data->ipython>=5.5.0->pycaret) (0.2.3)\n",
      "Requirement already satisfied: itsdangerous>=2.1.2 in c:\\users\\jv028u\\appdata\\local\\programs\\python\\python312\\lib\\site-packages (from Flask<3.1,>=1.0.4->dash>=2.9.0->plotly-resampler>=0.8.3.1->pycaret) (2.2.0)\n",
      "Requirement already satisfied: click>=8.1.3 in c:\\users\\jv028u\\appdata\\local\\programs\\python\\python312\\lib\\site-packages (from Flask<3.1,>=1.0.4->dash>=2.9.0->plotly-resampler>=0.8.3.1->pycaret) (8.1.7)\n",
      "Requirement already satisfied: blinker>=1.6.2 in c:\\users\\jv028u\\appdata\\local\\programs\\python\\python312\\lib\\site-packages (from Flask<3.1,>=1.0.4->dash>=2.9.0->plotly-resampler>=0.8.3.1->pycaret) (1.8.2)\n",
      "Using cached pycaret-3.3.2-py3-none-any.whl (486 kB)\n",
      "Using cached sktime-0.26.0-py3-none-any.whl (21.8 MB)\n",
      "Using cached category_encoders-2.6.4-py2.py3-none-any.whl (82 kB)\n",
      "Using cached imbalanced_learn-0.12.4-py3-none-any.whl (258 kB)\n",
      "Using cached lightgbm-4.5.0-py3-none-win_amd64.whl (1.4 MB)\n",
      "Using cached matplotlib-3.7.5-cp312-cp312-win_amd64.whl (7.5 MB)\n",
      "Using cached plotly_resampler-0.10.0-py3-none-any.whl (80 kB)\n",
      "Using cached pmdarima-2.0.4-cp312-cp312-win_amd64.whl (625 kB)\n",
      "Using cached scikit_plot-0.3.7-py3-none-any.whl (33 kB)\n",
      "Using cached statsmodels-0.14.4-cp312-cp312-win_amd64.whl (9.8 MB)\n",
      "Using cached tbats-1.1.3-py3-none-any.whl (44 kB)\n",
      "Using cached yellowbrick-1.5-py3-none-any.whl (282 kB)\n",
      "Using cached dash-2.18.1-py3-none-any.whl (7.5 MB)\n",
      "Using cached flask-3.0.3-py3-none-any.whl (101 kB)\n",
      "Installing collected packages: matplotlib, lightgbm, Flask, yellowbrick, statsmodels, sktime, scikit-plot, pyod, imbalanced-learn, dash, pmdarima, plotly-resampler, category-encoders, tbats, pycaret\n",
      "Successfully installed Flask-3.0.3 category-encoders-2.6.4 dash-2.18.1 imbalanced-learn-0.12.4 lightgbm-4.5.0 matplotlib-3.7.5 plotly-resampler-0.10.0 pmdarima-2.0.4 pycaret-3.3.2 pyod-2.0.2 scikit-plot-0.3.7 sktime-0.26.0 statsmodels-0.14.4 tbats-1.1.3 yellowbrick-1.5\n"
     ]
    },
    {
     "name": "stderr",
     "output_type": "stream",
     "text": [
      "WARNING: Ignoring invalid distribution ~atplotlib (C:\\Users\\jv028u\\AppData\\Local\\Programs\\Python\\Python312\\Lib\\site-packages)\n",
      "WARNING: Ignoring invalid distribution ~atplotlib (C:\\Users\\jv028u\\AppData\\Local\\Programs\\Python\\Python312\\Lib\\site-packages)\n",
      "WARNING: Ignoring invalid distribution ~atplotlib (C:\\Users\\jv028u\\AppData\\Local\\Programs\\Python\\Python312\\Lib\\site-packages)\n"
     ]
    }
   ],
   "source": [
    "!pip install pycaret"
   ]
  },
  {
   "cell_type": "code",
   "execution_count": 6,
   "id": "546b5de2-0773-4f67-95af-56422d38a07e",
   "metadata": {},
   "outputs": [
    {
     "ename": "NameError",
     "evalue": "name 'compare_models' is not defined",
     "output_type": "error",
     "traceback": [
      "\u001b[1;31m---------------------------------------------------------------------------\u001b[0m",
      "\u001b[1;31mNameError\u001b[0m                                 Traceback (most recent call last)",
      "Cell \u001b[1;32mIn[6], line 1\u001b[0m\n\u001b[1;32m----> 1\u001b[0m pycaret_models \u001b[38;5;241m=\u001b[39m \u001b[43mcompare_models\u001b[49m(sort\u001b[38;5;241m=\u001b[39m\u001b[38;5;124m'\u001b[39m\u001b[38;5;124mMSE\u001b[39m\u001b[38;5;124m'\u001b[39m, budget_time\u001b[38;5;241m=\u001b[39m\u001b[38;5;241m5\u001b[39m)\n",
      "\u001b[1;31mNameError\u001b[0m: name 'compare_models' is not defined"
     ]
    }
   ],
   "source": [
    "pycaret_models = compare_models(sort='MSE', budget_time=5)"
   ]
  },
  {
   "cell_type": "markdown",
   "id": "3fd347cd-8535-4102-8a7a-fb3b06614c66",
   "metadata": {},
   "source": [
    "\n",
    "Model\tMAE\tMSE\tRMSE\tR2\tRMSLE\tMAPE\tTT (Sec)\n",
    "lightgbm\tLight Gradient Boosting Machine\t0.4159\t0.3645\t0.6036\t0.5357\t0.2523\t0.5605\t0.2220\n",
    "catboost\tCatBoost Regressor\t0.4158\t0.3656\t0.6045\t0.5343\t0.2526\t0.5545\t3.8820\n",
    "gbr\tGradient Boosting Regressor\t0.4202\t0.3675\t0.6061\t0.5318\t0.2540\t0.5726\t2.1120\n",
    "rf\tRandom Forest Regressor\t0.4232\t0.3745\t0.6118\t0.5229\t0.2571\t0.5804\t4.8620\n",
    "xgboost\tExtreme Gradient Boosting\t0.4262\t0.3837\t0.6193\t0.5112\t0.2589\t0.5683\t2.0300"
   ]
  },
  {
   "cell_type": "code",
   "execution_count": null,
   "id": "fe248cfc-feba-4f26-adb2-33de7458fbe6",
   "metadata": {},
   "outputs": [],
   "source": [
    "\n",
    "print(pycaret_models)"
   ]
  },
  {
   "cell_type": "code",
   "execution_count": null,
   "id": "cae82608-d988-46cc-bef2-0b40975e9a2e",
   "metadata": {},
   "outputs": [],
   "source": [
    "from sklearn.metrics import mean_squared_error\n",
    "\n",
    "predictions = predict_model(pycaret_models, data=df_test)\n",
    "mean_squared_error(predictions['electricity_usage'], predictions['Label'])"
   ]
  },
  {
   "cell_type": "code",
   "execution_count": null,
   "id": "3b14fcb8-74d3-401f-9d2d-f71d16cb652c",
   "metadata": {},
   "outputs": [],
   "source": [
    "predictions[['electricity_usage', 'Label']].plot()"
   ]
  }
 ],
 "metadata": {
  "kernelspec": {
   "display_name": "Python 3 (ipykernel)",
   "language": "python",
   "name": "python3"
  },
  "language_info": {
   "codemirror_mode": {
    "name": "ipython",
    "version": 3
   },
   "file_extension": ".py",
   "mimetype": "text/x-python",
   "name": "python",
   "nbconvert_exporter": "python",
   "pygments_lexer": "ipython3",
   "version": "3.12.6"
  }
 },
 "nbformat": 4,
 "nbformat_minor": 5
}
